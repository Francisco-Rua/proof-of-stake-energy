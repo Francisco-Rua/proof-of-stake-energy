version https://git-lfs.github.com/spec/v1
oid sha256:3f07e8e0b57b8045422d619aabdd9b01f2648e6d5af1cd747562c23995ad6761
size 660635

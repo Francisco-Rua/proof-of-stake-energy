version https://git-lfs.github.com/spec/v1
oid sha256:28dc9a4896ec135fd3d954ff1e7fa7370042ce91967d7dc059f33a1826ad2871
size 660635
